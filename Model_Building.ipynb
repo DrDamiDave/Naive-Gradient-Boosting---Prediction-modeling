{
 "cells": [
  {
   "cell_type": "code",
   "execution_count": 1,
   "metadata": {},
   "outputs": [],
   "source": [
    "import numpy as np\n",
    "import pandas as pd\n",
    "import matplotlib.pyplot as plt\n",
    "import seaborn as sns\n",
    "import scipy.stats as stats\n",
    " \n",
    "from sklearn import metrics\n",
    "from sklearn.preprocessing import MinMaxScaler, StandardScaler\n",
    "from sklearn.model_selection import GridSearchCV, train_test_split\n",
    "from sklearn.feature_selection import mutual_info_regression\n",
    "from sklearn.pipeline import Pipeline\n",
    "from sklearn.ensemble import GradientBoostingRegressor as gbR\n",
    "from xgboost import XGBRegressor as xgbR\n",
    "from sklearn.svm import SVR\n",
    "from sklearn.neural_network import MLPRegressor\n",
    "from sklearn.preprocessing import FunctionTransformer, PowerTransformer"
   ]
  },
  {
   "cell_type": "code",
   "execution_count": 33,
   "metadata": {},
   "outputs": [],
   "source": [
    "#loading the data\n",
    "station1 = pd.read_csv('./Data/station_03216070_merged.csv')\n",
    "station2 = pd.read_csv('./Data/station_03303280_merged.csv')\n",
    "station3 = pd.read_csv('./Data/station_03612600_merged.csv')\n",
    "\n",
    "# station1['datetime'] = pd.to_datetime(station1['datetime']) \n",
    "# station1['year']= station1['datetime'].dt.year\n",
    "# station1['month']= station1['datetime'].dt.month\n",
    "# station1['day']= station1['datetime'].dt.day"
   ]
  },
  {
   "cell_type": "code",
   "execution_count": 34,
   "metadata": {},
   "outputs": [],
   "source": [
    "features = ['datetime','B1', 'B2', 'B3', 'B4', 'B5', 'B6', 'B7', 'B8', 'B8A', 'B9', 'B11', 'B12','Turbidity (FNU)']\n",
    "# features = ['year','month','day','B1', 'B2', 'B3', 'B4', 'B5', 'B8', 'B12','Turbidity (FNU)']\n",
    "target = 'Turbidity (FNU)'"
   ]
  },
  {
   "cell_type": "code",
   "execution_count": 35,
   "metadata": {},
   "outputs": [],
   "source": [
    "station1 = station1[features].reset_index(drop=True).dropna()\n",
    "station2 = station2[features].reset_index(drop=True).dropna()\n",
    "station3 = station3[features].reset_index(drop=True).dropna()"
   ]
  },
  {
   "cell_type": "code",
   "execution_count": 39,
   "metadata": {},
   "outputs": [],
   "source": [
    "station1['datetime'] = pd.to_datetime(station1['datetime']) \n",
    "station1['date']= station1['datetime'].dt.date"
   ]
  },
  {
   "cell_type": "code",
   "execution_count": 57,
   "metadata": {},
   "outputs": [
    {
     "data": {
      "text/html": [
       "<div>\n",
       "<style scoped>\n",
       "    .dataframe tbody tr th:only-of-type {\n",
       "        vertical-align: middle;\n",
       "    }\n",
       "\n",
       "    .dataframe tbody tr th {\n",
       "        vertical-align: top;\n",
       "    }\n",
       "\n",
       "    .dataframe thead th {\n",
       "        text-align: right;\n",
       "    }\n",
       "</style>\n",
       "<table border=\"1\" class=\"dataframe\">\n",
       "  <thead>\n",
       "    <tr style=\"text-align: right;\">\n",
       "      <th></th>\n",
       "      <th>B1</th>\n",
       "      <th>B2</th>\n",
       "      <th>B3</th>\n",
       "      <th>B4</th>\n",
       "      <th>B5</th>\n",
       "      <th>B6</th>\n",
       "      <th>B7</th>\n",
       "      <th>B8</th>\n",
       "      <th>B8A</th>\n",
       "      <th>B9</th>\n",
       "      <th>B11</th>\n",
       "      <th>B12</th>\n",
       "      <th>Turbidity (FNU)</th>\n",
       "    </tr>\n",
       "  </thead>\n",
       "  <tbody>\n",
       "    <tr>\n",
       "      <th>count</th>\n",
       "      <td>280.0</td>\n",
       "      <td>280.0</td>\n",
       "      <td>280.0</td>\n",
       "      <td>280.0</td>\n",
       "      <td>280.0</td>\n",
       "      <td>280.0</td>\n",
       "      <td>280.0</td>\n",
       "      <td>280.0</td>\n",
       "      <td>280.0</td>\n",
       "      <td>280.0</td>\n",
       "      <td>280.0</td>\n",
       "      <td>280.0</td>\n",
       "      <td>280.0</td>\n",
       "    </tr>\n",
       "    <tr>\n",
       "      <th>mean</th>\n",
       "      <td>2170.0</td>\n",
       "      <td>2093.0</td>\n",
       "      <td>2179.0</td>\n",
       "      <td>2172.0</td>\n",
       "      <td>2530.0</td>\n",
       "      <td>3212.0</td>\n",
       "      <td>3426.0</td>\n",
       "      <td>3170.0</td>\n",
       "      <td>3547.0</td>\n",
       "      <td>4056.0</td>\n",
       "      <td>2676.0</td>\n",
       "      <td>2093.0</td>\n",
       "      <td>31.0</td>\n",
       "    </tr>\n",
       "    <tr>\n",
       "      <th>std</th>\n",
       "      <td>2891.0</td>\n",
       "      <td>2816.0</td>\n",
       "      <td>2586.0</td>\n",
       "      <td>2489.0</td>\n",
       "      <td>2439.0</td>\n",
       "      <td>2141.0</td>\n",
       "      <td>2072.0</td>\n",
       "      <td>2242.0</td>\n",
       "      <td>1993.0</td>\n",
       "      <td>3074.0</td>\n",
       "      <td>1377.0</td>\n",
       "      <td>1320.0</td>\n",
       "      <td>45.0</td>\n",
       "    </tr>\n",
       "    <tr>\n",
       "      <th>min</th>\n",
       "      <td>102.0</td>\n",
       "      <td>139.0</td>\n",
       "      <td>361.0</td>\n",
       "      <td>344.0</td>\n",
       "      <td>400.0</td>\n",
       "      <td>485.0</td>\n",
       "      <td>515.0</td>\n",
       "      <td>470.0</td>\n",
       "      <td>593.0</td>\n",
       "      <td>566.0</td>\n",
       "      <td>329.0</td>\n",
       "      <td>249.0</td>\n",
       "      <td>1.0</td>\n",
       "    </tr>\n",
       "    <tr>\n",
       "      <th>25%</th>\n",
       "      <td>548.0</td>\n",
       "      <td>502.0</td>\n",
       "      <td>727.0</td>\n",
       "      <td>785.0</td>\n",
       "      <td>1167.0</td>\n",
       "      <td>1938.0</td>\n",
       "      <td>2073.0</td>\n",
       "      <td>1844.0</td>\n",
       "      <td>2275.0</td>\n",
       "      <td>2434.0</td>\n",
       "      <td>1918.0</td>\n",
       "      <td>1313.0</td>\n",
       "      <td>9.0</td>\n",
       "    </tr>\n",
       "    <tr>\n",
       "      <th>50%</th>\n",
       "      <td>826.0</td>\n",
       "      <td>768.0</td>\n",
       "      <td>960.0</td>\n",
       "      <td>948.0</td>\n",
       "      <td>1390.0</td>\n",
       "      <td>2540.0</td>\n",
       "      <td>2850.0</td>\n",
       "      <td>2412.0</td>\n",
       "      <td>2997.0</td>\n",
       "      <td>2963.0</td>\n",
       "      <td>2194.0</td>\n",
       "      <td>1555.0</td>\n",
       "      <td>15.0</td>\n",
       "    </tr>\n",
       "    <tr>\n",
       "      <th>75%</th>\n",
       "      <td>2104.0</td>\n",
       "      <td>1980.0</td>\n",
       "      <td>2063.0</td>\n",
       "      <td>2148.0</td>\n",
       "      <td>2456.0</td>\n",
       "      <td>3522.0</td>\n",
       "      <td>3824.0</td>\n",
       "      <td>3333.0</td>\n",
       "      <td>3929.0</td>\n",
       "      <td>3918.0</td>\n",
       "      <td>3020.0</td>\n",
       "      <td>2368.0</td>\n",
       "      <td>34.0</td>\n",
       "    </tr>\n",
       "    <tr>\n",
       "      <th>max</th>\n",
       "      <td>15121.0</td>\n",
       "      <td>14280.0</td>\n",
       "      <td>12464.0</td>\n",
       "      <td>12104.0</td>\n",
       "      <td>12629.0</td>\n",
       "      <td>12331.0</td>\n",
       "      <td>12166.0</td>\n",
       "      <td>12288.0</td>\n",
       "      <td>12010.0</td>\n",
       "      <td>16878.0</td>\n",
       "      <td>9169.0</td>\n",
       "      <td>8381.0</td>\n",
       "      <td>381.0</td>\n",
       "    </tr>\n",
       "  </tbody>\n",
       "</table>\n",
       "</div>"
      ],
      "text/plain": [
       "            B1       B2       B3       B4       B5       B6       B7       B8  \\\n",
       "count    280.0    280.0    280.0    280.0    280.0    280.0    280.0    280.0   \n",
       "mean    2170.0   2093.0   2179.0   2172.0   2530.0   3212.0   3426.0   3170.0   \n",
       "std     2891.0   2816.0   2586.0   2489.0   2439.0   2141.0   2072.0   2242.0   \n",
       "min      102.0    139.0    361.0    344.0    400.0    485.0    515.0    470.0   \n",
       "25%      548.0    502.0    727.0    785.0   1167.0   1938.0   2073.0   1844.0   \n",
       "50%      826.0    768.0    960.0    948.0   1390.0   2540.0   2850.0   2412.0   \n",
       "75%     2104.0   1980.0   2063.0   2148.0   2456.0   3522.0   3824.0   3333.0   \n",
       "max    15121.0  14280.0  12464.0  12104.0  12629.0  12331.0  12166.0  12288.0   \n",
       "\n",
       "           B8A       B9     B11     B12  Turbidity (FNU)  \n",
       "count    280.0    280.0   280.0   280.0            280.0  \n",
       "mean    3547.0   4056.0  2676.0  2093.0             31.0  \n",
       "std     1993.0   3074.0  1377.0  1320.0             45.0  \n",
       "min      593.0    566.0   329.0   249.0              1.0  \n",
       "25%     2275.0   2434.0  1918.0  1313.0              9.0  \n",
       "50%     2997.0   2963.0  2194.0  1555.0             15.0  \n",
       "75%     3929.0   3918.0  3020.0  2368.0             34.0  \n",
       "max    12010.0  16878.0  9169.0  8381.0            381.0  "
      ]
     },
     "execution_count": 57,
     "metadata": {},
     "output_type": "execute_result"
    }
   ],
   "source": [
    "station1.describe().round()"
   ]
  },
  {
   "cell_type": "code",
   "execution_count": 61,
   "metadata": {},
   "outputs": [
    {
     "data": {
      "text/html": [
       "<div>\n",
       "<style scoped>\n",
       "    .dataframe tbody tr th:only-of-type {\n",
       "        vertical-align: middle;\n",
       "    }\n",
       "\n",
       "    .dataframe tbody tr th {\n",
       "        vertical-align: top;\n",
       "    }\n",
       "\n",
       "    .dataframe thead th {\n",
       "        text-align: right;\n",
       "    }\n",
       "</style>\n",
       "<table border=\"1\" class=\"dataframe\">\n",
       "  <thead>\n",
       "    <tr style=\"text-align: right;\">\n",
       "      <th></th>\n",
       "      <th>B1</th>\n",
       "      <th>B2</th>\n",
       "      <th>B3</th>\n",
       "      <th>B4</th>\n",
       "      <th>B5</th>\n",
       "      <th>B6</th>\n",
       "      <th>B7</th>\n",
       "      <th>B8</th>\n",
       "      <th>B8A</th>\n",
       "      <th>B9</th>\n",
       "      <th>B11</th>\n",
       "      <th>B12</th>\n",
       "      <th>Turbidity (FNU)</th>\n",
       "    </tr>\n",
       "  </thead>\n",
       "  <tbody>\n",
       "    <tr>\n",
       "      <th>B1</th>\n",
       "      <td>1.00</td>\n",
       "      <td>0.99</td>\n",
       "      <td>0.99</td>\n",
       "      <td>0.98</td>\n",
       "      <td>0.98</td>\n",
       "      <td>0.96</td>\n",
       "      <td>0.94</td>\n",
       "      <td>0.95</td>\n",
       "      <td>0.93</td>\n",
       "      <td>0.88</td>\n",
       "      <td>0.82</td>\n",
       "      <td>0.85</td>\n",
       "      <td>0.04</td>\n",
       "    </tr>\n",
       "    <tr>\n",
       "      <th>B2</th>\n",
       "      <td>0.99</td>\n",
       "      <td>1.00</td>\n",
       "      <td>1.00</td>\n",
       "      <td>0.99</td>\n",
       "      <td>0.99</td>\n",
       "      <td>0.96</td>\n",
       "      <td>0.95</td>\n",
       "      <td>0.97</td>\n",
       "      <td>0.93</td>\n",
       "      <td>0.87</td>\n",
       "      <td>0.84</td>\n",
       "      <td>0.86</td>\n",
       "      <td>0.04</td>\n",
       "    </tr>\n",
       "    <tr>\n",
       "      <th>B3</th>\n",
       "      <td>0.99</td>\n",
       "      <td>1.00</td>\n",
       "      <td>1.00</td>\n",
       "      <td>1.00</td>\n",
       "      <td>1.00</td>\n",
       "      <td>0.97</td>\n",
       "      <td>0.96</td>\n",
       "      <td>0.98</td>\n",
       "      <td>0.95</td>\n",
       "      <td>0.87</td>\n",
       "      <td>0.85</td>\n",
       "      <td>0.87</td>\n",
       "      <td>0.05</td>\n",
       "    </tr>\n",
       "    <tr>\n",
       "      <th>B4</th>\n",
       "      <td>0.98</td>\n",
       "      <td>0.99</td>\n",
       "      <td>1.00</td>\n",
       "      <td>1.00</td>\n",
       "      <td>1.00</td>\n",
       "      <td>0.97</td>\n",
       "      <td>0.95</td>\n",
       "      <td>0.98</td>\n",
       "      <td>0.95</td>\n",
       "      <td>0.86</td>\n",
       "      <td>0.84</td>\n",
       "      <td>0.88</td>\n",
       "      <td>0.07</td>\n",
       "    </tr>\n",
       "    <tr>\n",
       "      <th>B5</th>\n",
       "      <td>0.98</td>\n",
       "      <td>0.99</td>\n",
       "      <td>1.00</td>\n",
       "      <td>1.00</td>\n",
       "      <td>1.00</td>\n",
       "      <td>0.98</td>\n",
       "      <td>0.96</td>\n",
       "      <td>0.98</td>\n",
       "      <td>0.96</td>\n",
       "      <td>0.87</td>\n",
       "      <td>0.86</td>\n",
       "      <td>0.88</td>\n",
       "      <td>0.06</td>\n",
       "    </tr>\n",
       "    <tr>\n",
       "      <th>B6</th>\n",
       "      <td>0.96</td>\n",
       "      <td>0.96</td>\n",
       "      <td>0.97</td>\n",
       "      <td>0.97</td>\n",
       "      <td>0.98</td>\n",
       "      <td>1.00</td>\n",
       "      <td>1.00</td>\n",
       "      <td>0.99</td>\n",
       "      <td>0.99</td>\n",
       "      <td>0.87</td>\n",
       "      <td>0.86</td>\n",
       "      <td>0.87</td>\n",
       "      <td>0.02</td>\n",
       "    </tr>\n",
       "    <tr>\n",
       "      <th>B7</th>\n",
       "      <td>0.94</td>\n",
       "      <td>0.95</td>\n",
       "      <td>0.96</td>\n",
       "      <td>0.95</td>\n",
       "      <td>0.96</td>\n",
       "      <td>1.00</td>\n",
       "      <td>1.00</td>\n",
       "      <td>0.98</td>\n",
       "      <td>1.00</td>\n",
       "      <td>0.87</td>\n",
       "      <td>0.86</td>\n",
       "      <td>0.87</td>\n",
       "      <td>0.01</td>\n",
       "    </tr>\n",
       "    <tr>\n",
       "      <th>B8</th>\n",
       "      <td>0.95</td>\n",
       "      <td>0.97</td>\n",
       "      <td>0.98</td>\n",
       "      <td>0.98</td>\n",
       "      <td>0.98</td>\n",
       "      <td>0.99</td>\n",
       "      <td>0.98</td>\n",
       "      <td>1.00</td>\n",
       "      <td>0.97</td>\n",
       "      <td>0.86</td>\n",
       "      <td>0.86</td>\n",
       "      <td>0.87</td>\n",
       "      <td>0.05</td>\n",
       "    </tr>\n",
       "    <tr>\n",
       "      <th>B8A</th>\n",
       "      <td>0.93</td>\n",
       "      <td>0.93</td>\n",
       "      <td>0.95</td>\n",
       "      <td>0.95</td>\n",
       "      <td>0.96</td>\n",
       "      <td>0.99</td>\n",
       "      <td>1.00</td>\n",
       "      <td>0.97</td>\n",
       "      <td>1.00</td>\n",
       "      <td>0.86</td>\n",
       "      <td>0.86</td>\n",
       "      <td>0.86</td>\n",
       "      <td>0.00</td>\n",
       "    </tr>\n",
       "    <tr>\n",
       "      <th>B9</th>\n",
       "      <td>0.88</td>\n",
       "      <td>0.87</td>\n",
       "      <td>0.87</td>\n",
       "      <td>0.86</td>\n",
       "      <td>0.87</td>\n",
       "      <td>0.87</td>\n",
       "      <td>0.87</td>\n",
       "      <td>0.86</td>\n",
       "      <td>0.86</td>\n",
       "      <td>1.00</td>\n",
       "      <td>0.82</td>\n",
       "      <td>0.84</td>\n",
       "      <td>0.02</td>\n",
       "    </tr>\n",
       "    <tr>\n",
       "      <th>B11</th>\n",
       "      <td>0.82</td>\n",
       "      <td>0.84</td>\n",
       "      <td>0.85</td>\n",
       "      <td>0.84</td>\n",
       "      <td>0.86</td>\n",
       "      <td>0.86</td>\n",
       "      <td>0.86</td>\n",
       "      <td>0.86</td>\n",
       "      <td>0.86</td>\n",
       "      <td>0.82</td>\n",
       "      <td>1.00</td>\n",
       "      <td>0.98</td>\n",
       "      <td>0.08</td>\n",
       "    </tr>\n",
       "    <tr>\n",
       "      <th>B12</th>\n",
       "      <td>0.85</td>\n",
       "      <td>0.86</td>\n",
       "      <td>0.87</td>\n",
       "      <td>0.88</td>\n",
       "      <td>0.88</td>\n",
       "      <td>0.87</td>\n",
       "      <td>0.87</td>\n",
       "      <td>0.87</td>\n",
       "      <td>0.86</td>\n",
       "      <td>0.84</td>\n",
       "      <td>0.98</td>\n",
       "      <td>1.00</td>\n",
       "      <td>0.10</td>\n",
       "    </tr>\n",
       "    <tr>\n",
       "      <th>Turbidity (FNU)</th>\n",
       "      <td>0.04</td>\n",
       "      <td>0.04</td>\n",
       "      <td>0.05</td>\n",
       "      <td>0.07</td>\n",
       "      <td>0.06</td>\n",
       "      <td>0.02</td>\n",
       "      <td>0.01</td>\n",
       "      <td>0.05</td>\n",
       "      <td>0.00</td>\n",
       "      <td>0.02</td>\n",
       "      <td>0.08</td>\n",
       "      <td>0.10</td>\n",
       "      <td>1.00</td>\n",
       "    </tr>\n",
       "  </tbody>\n",
       "</table>\n",
       "</div>"
      ],
      "text/plain": [
       "                   B1    B2    B3    B4    B5    B6    B7    B8   B8A    B9  \\\n",
       "B1               1.00  0.99  0.99  0.98  0.98  0.96  0.94  0.95  0.93  0.88   \n",
       "B2               0.99  1.00  1.00  0.99  0.99  0.96  0.95  0.97  0.93  0.87   \n",
       "B3               0.99  1.00  1.00  1.00  1.00  0.97  0.96  0.98  0.95  0.87   \n",
       "B4               0.98  0.99  1.00  1.00  1.00  0.97  0.95  0.98  0.95  0.86   \n",
       "B5               0.98  0.99  1.00  1.00  1.00  0.98  0.96  0.98  0.96  0.87   \n",
       "B6               0.96  0.96  0.97  0.97  0.98  1.00  1.00  0.99  0.99  0.87   \n",
       "B7               0.94  0.95  0.96  0.95  0.96  1.00  1.00  0.98  1.00  0.87   \n",
       "B8               0.95  0.97  0.98  0.98  0.98  0.99  0.98  1.00  0.97  0.86   \n",
       "B8A              0.93  0.93  0.95  0.95  0.96  0.99  1.00  0.97  1.00  0.86   \n",
       "B9               0.88  0.87  0.87  0.86  0.87  0.87  0.87  0.86  0.86  1.00   \n",
       "B11              0.82  0.84  0.85  0.84  0.86  0.86  0.86  0.86  0.86  0.82   \n",
       "B12              0.85  0.86  0.87  0.88  0.88  0.87  0.87  0.87  0.86  0.84   \n",
       "Turbidity (FNU)  0.04  0.04  0.05  0.07  0.06  0.02  0.01  0.05  0.00  0.02   \n",
       "\n",
       "                  B11   B12  Turbidity (FNU)  \n",
       "B1               0.82  0.85             0.04  \n",
       "B2               0.84  0.86             0.04  \n",
       "B3               0.85  0.87             0.05  \n",
       "B4               0.84  0.88             0.07  \n",
       "B5               0.86  0.88             0.06  \n",
       "B6               0.86  0.87             0.02  \n",
       "B7               0.86  0.87             0.01  \n",
       "B8               0.86  0.87             0.05  \n",
       "B8A              0.86  0.86             0.00  \n",
       "B9               0.82  0.84             0.02  \n",
       "B11              1.00  0.98             0.08  \n",
       "B12              0.98  1.00             0.10  \n",
       "Turbidity (FNU)  0.08  0.10             1.00  "
      ]
     },
     "execution_count": 61,
     "metadata": {},
     "output_type": "execute_result"
    }
   ],
   "source": [
    "station1.corr().round(2)"
   ]
  },
  {
   "cell_type": "code",
   "execution_count": 51,
   "metadata": {},
   "outputs": [
    {
     "data": {
      "image/png": "[encoded data removed]",
      "text/plain": [
       "<Figure size 720x504 with 2 Axes>"
      ]
     },
     "metadata": {
      "needs_background": "light"
     },
     "output_type": "display_data"
    }
   ],
   "source": [
    "fig, ax = plt.subplots(nrows=1,ncols=1,figsize=(10, 7))\n",
    "cmap = sns.diverging_palette(250, 10, as_cmap=True)\n",
    "mask = np.zeros_like(station1.drop(['datetime', 'date'], axis=1).corr())\n",
    "mask[np.triu_indices_from(mask)] = True\n",
    "with sns.axes_style(\"white\"):\n",
    "    sns.heatmap(station1.drop(['datetime', 'date'], axis=1).corr(), mask=mask,cmap=cmap, vmin=-1.0,vmax=1.0,\n",
    "                ax=ax, square=True, annot = True,cbar_kws={'label': 'Pearson’s correlation'})\n",
    "    ax.set_yticklabels(ax.get_yticklabels(), rotation=45)"
   ]
  },
  {
   "cell_type": "code",
   "execution_count": 52,
   "metadata": {},
   "outputs": [
    {
     "name": "stdout",
     "output_type": "stream",
     "text": [
      "Feature ranking:\n",
      "1. feature B6 = 0.104055\n",
      "2. feature B4 = 0.091004\n",
      "3. feature B5 = 0.083185\n",
      "4. feature B7 = 0.082943\n",
      "5. feature B8 = 0.067842\n",
      "6. feature B8A = 0.063211\n",
      "7. feature B11 = 0.061736\n",
      "8. feature B9 = 0.060369\n",
      "9. feature B3 = 0.057720\n",
      "10. feature B2 = 0.040472\n",
      "11. feature B12 = 0.039087\n",
      "12. feature B1 = 0.000000\n"
     ]
    },
    {
     "data": {
      "text/plain": [
       "(-1.0, 12.0)"
      ]
     },
     "execution_count": 52,
     "metadata": {},
     "output_type": "execute_result"
    },
    {
     "data": {
      "image/png": "[encoded data removed]",
      "text/plain": [
       "<Figure size 648x504 with 1 Axes>"
      ]
     },
     "metadata": {
      "needs_background": "light"
     },
     "output_type": "display_data"
    }
   ],
   "source": [
    "X = station1.drop([target], axis=1)._get_numeric_data()   # separate DataFrames for predictor and response features\n",
    "y = station1.loc[:,[target]]._get_numeric_data()\n",
    "\n",
    "mi = mutual_info_regression(X,np.ravel(y), random_state=20) # calculate mutual information\n",
    "# mi /= np.max(mi)                          # calculate relative mutual information\n",
    "\n",
    "indices = np.argsort(mi)[::-1]            # find indicies for descending order\n",
    "\n",
    "print(\"Feature ranking:\")                 # write out the feature importances\n",
    "for f in range(X.shape[1]):\n",
    "    print(\"%d. feature %s = %f\" % (f + 1, X.columns[indices][f], mi[indices[f]]))\n",
    "\n",
    "fig, ax = plt.subplots(nrows=1,ncols=1,figsize=(9, 7))\n",
    "fig.subplots_adjust(left=0.0, bottom=0.0, right=1., top=1., wspace=0.2, hspace=0.2)\n",
    "\n",
    "ax.bar(range(X.shape[1]), mi[indices],color=\"g\", align=\"center\")\n",
    "ax.set_title(\"Mutual Information\")\n",
    "ax.set_xticks(range(X.shape[1]))\n",
    "ax.set_xticklabels(X.columns[indices],rotation=90)\n",
    "ax.set_xlim([-1, X.shape[1]])"
   ]
  },
  {
   "cell_type": "markdown",
   "metadata": {},
   "source": [
    "## Strategy 1"
   ]
  },
  {
   "cell_type": "code",
   "execution_count": 126,
   "metadata": {},
   "outputs": [],
   "source": [
    "train_size = int(len(station1)*0.7)\n",
    "\n",
    "X_train, X_test = station1.drop([target, 'datetime','B1','B8A', 'date'],axis=1)[0:train_size], station1.drop([target, 'datetime','B1','B8A', 'date'],axis=1)[train_size:]\n",
    "y_train, y_test = station1[[target]][0:train_size], station1[[target]][train_size:]"
   ]
  },
  {
   "cell_type": "code",
   "execution_count": 127,
   "metadata": {},
   "outputs": [
    {
     "name": "stdout",
     "output_type": "stream",
     "text": [
      "Model Report\n",
      "The training R2 is : 0.9762\n",
      "The testing R2 is : -0.2105\n",
      "The training MSE is : 32.61\n",
      "The testing MSE is : 4152\n"
     ]
    },
    {
     "name": "stderr",
     "output_type": "stream",
     "text": [
      "C:\\Users\\tmo0005\\Anaconda3\\lib\\site-packages\\sklearn\\ensemble\\_gb.py:570: DataConversionWarning: A column-vector y was passed when a 1d array was expected. Please change the shape of y to (n_samples, ), for example using ravel().\n",
      "  y = column_or_1d(y, warn=True)\n"
     ]
    }
   ],
   "source": [
    "#naive ML model\n",
    "model = gbR()\n",
    "\n",
    "#Fit the model on the data\n",
    "model.fit(X_train, y_train)\n",
    "\n",
    "#Predict training set:\n",
    "y_train_pred = model.predict(X_train)\n",
    "\n",
    "#Predict testing set:\n",
    "y_test_pred = model.predict(X_test)\n",
    "\n",
    "print(\"Model Report\")\n",
    "print(\"The training R2 is : {0:.4g}\".format(metrics.r2_score(y_train, y_train_pred)))\n",
    "print(\"The testing R2 is : {0:.4g}\".format(metrics.r2_score(y_test,y_test_pred)))\n",
    "\n",
    "print(\"The training MSE is : {0:.4g}\".format(metrics.mean_squared_error(y_train, y_train_pred)))\n",
    "print(\"The testing MSE is : {0:.4g}\".format(metrics.mean_squared_error(y_test,y_test_pred)))"
   ]
  },
  {
   "cell_type": "code",
   "execution_count": null,
   "metadata": {},
   "outputs": [],
   "source": []
  },
  {
   "cell_type": "code",
   "execution_count": 150,
   "metadata": {},
   "outputs": [],
   "source": [
    "hyper_parameters =  {\"min_samples_split\" : [4,5,6,7,8],\n",
    "                     \"min_samples_leaf\": [4,5,7,9,11],\n",
    "                     \"max_depth\"        : range(6,12,1),\n",
    "                    \"learning_rate\": np.logspace(-3,-1,3),\n",
    "                    \"n_estimators\"    : range(100,500,50)\n",
    "                    }"
   ]
  },
  {
   "cell_type": "code",
   "execution_count": 151,
   "metadata": {},
   "outputs": [
    {
     "name": "stdout",
     "output_type": "stream",
     "text": [
      "Fitting 2 folds for each of 3600 candidates, totalling 7200 fits\n"
     ]
    },
    {
     "name": "stderr",
     "output_type": "stream",
     "text": [
      "C:\\Users\\tmo0005\\Anaconda3\\lib\\site-packages\\sklearn\\ensemble\\_gb.py:570: DataConversionWarning: A column-vector y was passed when a 1d array was expected. Please change the shape of y to (n_samples, ), for example using ravel().\n",
      "  y = column_or_1d(y, warn=True)\n"
     ]
    },
    {
     "name": "stdout",
     "output_type": "stream",
     "text": [
      "Model Report\n",
      "-------------------------------\n",
      "CV best parameter combinations : {'learning_rate': 0.01, 'max_depth': 9, 'min_samples_leaf': 9, 'min_samples_split': 4, 'n_estimators': 150}\n",
      "-------------------------------\n",
      "-------------------------------\n",
      "The training R2 score : 0.5191\n",
      "The testing R2 score is : 0.004398\n",
      "CV best score : -1352\n",
      "-------------------------------\n",
      "-------------------------------\n",
      "The training MSE score : 693.5\n",
      "The testing MSE score is : 3247\n",
      "-------------------------------\n",
      "-------------------------------\n",
      "The training MAE score : 13.24\n",
      "The testing MAE score is : 38.94\n"
     ]
    }
   ],
   "source": [
    "model = GridSearchCV(estimator = gbR(random_state=42),\n",
    "                     param_grid = hyper_parameters,\n",
    "                     scoring='neg_mean_squared_error',n_jobs=-1, cv=2, verbose = 2)\n",
    "\n",
    "#Fit the model on the data\n",
    "model.fit(X_train, y_train)\n",
    "\n",
    "#Predict training set:\n",
    "y_train_pred = model.predict(X_train)\n",
    "\n",
    "#Predict testing set:\n",
    "y_test_pred = model.predict(X_test)\n",
    "\n",
    "#Print model report:\n",
    "print(\"Model Report\")\n",
    "print(\"-------------------------------\")\n",
    "print(\"CV best parameter combinations : {}\".format(model.best_params_))\n",
    "print(\"-------------------------------\")\n",
    "print(\"-------------------------------\")\n",
    "train_r2 = metrics.r2_score(y_train, y_train_pred)\n",
    "print(\"The training R2 score : {0:.4g}\".format(train_r2))\n",
    "test_r2 = metrics.r2_score(y_test,y_test_pred)\n",
    "print(\"The testing R2 score is : {0:.4g}\".format(test_r2))\n",
    "print(\"CV best score : {0:.4g}\".format(model.best_score_))\n",
    "print(\"-------------------------------\")\n",
    "print(\"-------------------------------\")\n",
    "train_mse = metrics.mean_squared_error(y_train, y_train_pred)\n",
    "print(\"The training MSE score : {0:.4g}\".format(train_mse))\n",
    "test_mse = metrics.mean_squared_error(y_test,y_test_pred)\n",
    "print(\"The testing MSE score is : {0:.4g}\".format(test_mse))\n",
    "print(\"-------------------------------\")\n",
    "print(\"-------------------------------\")\n",
    "train_mae = metrics.mean_absolute_error(y_train, y_train_pred)\n",
    "print(\"The training MAE score : {0:.4g}\".format(train_mae))\n",
    "test_mae = metrics.mean_absolute_error(y_test,y_test_pred)\n",
    "print(\"The testing MAE score is : {0:.4g}\".format(test_mae))"
   ]
  },
  {
   "cell_type": "code",
   "execution_count": null,
   "metadata": {},
   "outputs": [],
   "source": []
  },
  {
   "cell_type": "code",
   "execution_count": null,
   "metadata": {},
   "outputs": [],
   "source": []
  },
  {
   "cell_type": "markdown",
   "metadata": {},
   "source": [
    "___"
   ]
  },
  {
   "cell_type": "markdown",
   "metadata": {},
   "source": [
    "## Strategy 2"
   ]
  },
  {
   "cell_type": "code",
   "execution_count": 152,
   "metadata": {},
   "outputs": [],
   "source": [
    "train = station1.drop(['datetime','B1','B8A', 'date'],axis=1).reset_index(drop=True)\n",
    "test = pd.DataFrame()\n",
    "for i in range(5,len(station1),5):\n",
    "    test = pd.concat([test,station1.drop(['datetime','B1','B8A', 'date'],axis=1).iloc[[i]]], ignore_index = False)\n",
    "    train.drop([i], inplace=True)\n",
    "\n",
    "X_train, X_test = train.drop([target],axis=1), test.drop([target],axis=1)\n",
    "y_train, y_test = train[[target]], test[[target]]"
   ]
  },
  {
   "cell_type": "code",
   "execution_count": 138,
   "metadata": {},
   "outputs": [
    {
     "name": "stdout",
     "output_type": "stream",
     "text": [
      "Model Report\n",
      "The training R2 is : 0.9572\n",
      "The testing R2 is : 0.3381\n",
      "The training MSE is : 95.23\n",
      "The testing MSE is : 863.8\n"
     ]
    },
    {
     "name": "stderr",
     "output_type": "stream",
     "text": [
      "C:\\Users\\tmo0005\\Anaconda3\\lib\\site-packages\\sklearn\\ensemble\\_gb.py:570: DataConversionWarning: A column-vector y was passed when a 1d array was expected. Please change the shape of y to (n_samples, ), for example using ravel().\n",
      "  y = column_or_1d(y, warn=True)\n"
     ]
    }
   ],
   "source": [
    "#naive ML model\n",
    "\n",
    "model = gbR()\n",
    "\n",
    "#Fit the model on the data\n",
    "model.fit(X_train, y_train)\n",
    "\n",
    "#Predict training set:\n",
    "y_train_pred = model.predict(X_train)\n",
    "\n",
    "#Predict testing set:\n",
    "y_test_pred = model.predict(X_test)\n",
    "\n",
    "print(\"Model Report\")\n",
    "print(\"The training R2 is : {0:.4g}\".format(metrics.r2_score(y_train, y_train_pred)))\n",
    "print(\"The testing R2 is : {0:.4g}\".format(metrics.r2_score(y_test,y_test_pred)))\n",
    "\n",
    "print(\"The training MSE is : {0:.4g}\".format(metrics.mean_squared_error(y_train, y_train_pred)))\n",
    "print(\"The testing MSE is : {0:.4g}\".format(metrics.mean_squared_error(y_test,y_test_pred)))"
   ]
  },
  {
   "cell_type": "code",
   "execution_count": null,
   "metadata": {},
   "outputs": [],
   "source": []
  },
  {
   "cell_type": "code",
   "execution_count": 153,
   "metadata": {},
   "outputs": [
    {
     "name": "stdout",
     "output_type": "stream",
     "text": [
      "Fitting 2 folds for each of 3600 candidates, totalling 7200 fits\n",
      "Model Report\n",
      "-------------------------------\n",
      "CV best parameter combinations : {'learning_rate': 0.01, 'max_depth': 6, 'min_samples_leaf': 9, 'min_samples_split': 4, 'n_estimators': 100}\n",
      "-------------------------------\n",
      "-------------------------------\n",
      "The training R2 score : 0.3606\n",
      "The testing R2 score is : 0.1431\n",
      "CV best score : -2204\n",
      "-------------------------------\n",
      "-------------------------------\n",
      "The training MSE score : 1421\n",
      "The testing MSE score is : 1118\n",
      "-------------------------------\n",
      "-------------------------------\n",
      "The training MAE score : 19.74\n",
      "The testing MAE score is : 22.75\n"
     ]
    },
    {
     "name": "stderr",
     "output_type": "stream",
     "text": [
      "C:\\Users\\tmo0005\\Anaconda3\\lib\\site-packages\\sklearn\\ensemble\\_gb.py:570: DataConversionWarning: A column-vector y was passed when a 1d array was expected. Please change the shape of y to (n_samples, ), for example using ravel().\n",
      "  y = column_or_1d(y, warn=True)\n"
     ]
    }
   ],
   "source": [
    "hyper_parameters =  {\"min_samples_split\" : [4,5,6,7,8],\n",
    "                     \"min_samples_leaf\": [4,5,7,9,11],\n",
    "                     \"max_depth\"        : range(6,12,1),\n",
    "                    \"learning_rate\": np.logspace(-3,-1,3),\n",
    "                    \"n_estimators\"    : range(100,500,50)\n",
    "                    }\n",
    "\n",
    "model = GridSearchCV(estimator = gbR(random_state=42),\n",
    "                     param_grid = hyper_parameters,\n",
    "                     scoring='neg_mean_squared_error',n_jobs=-1, cv=2, verbose = 2)\n",
    "\n",
    "#Fit the model on the data\n",
    "model.fit(X_train, y_train)\n",
    "\n",
    "#Predict training set:\n",
    "y_train_pred = model.predict(X_train)\n",
    "\n",
    "#Predict testing set:\n",
    "y_test_pred = model.predict(X_test)\n",
    "\n",
    "#Print model report:\n",
    "print(\"Model Report\")\n",
    "print(\"-------------------------------\")\n",
    "print(\"CV best parameter combinations : {}\".format(model.best_params_))\n",
    "print(\"-------------------------------\")\n",
    "print(\"-------------------------------\")\n",
    "train_r2 = metrics.r2_score(y_train, y_train_pred)\n",
    "print(\"The training R2 score : {0:.4g}\".format(train_r2))\n",
    "test_r2 = metrics.r2_score(y_test,y_test_pred)\n",
    "print(\"The testing R2 score is : {0:.4g}\".format(test_r2))\n",
    "print(\"CV best score : {0:.4g}\".format(model.best_score_))\n",
    "print(\"-------------------------------\")\n",
    "print(\"-------------------------------\")\n",
    "train_mse = metrics.mean_squared_error(y_train, y_train_pred)\n",
    "print(\"The training MSE score : {0:.4g}\".format(train_mse))\n",
    "test_mse = metrics.mean_squared_error(y_test,y_test_pred)\n",
    "print(\"The testing MSE score is : {0:.4g}\".format(test_mse))\n",
    "print(\"-------------------------------\")\n",
    "print(\"-------------------------------\")\n",
    "train_mae = metrics.mean_absolute_error(y_train, y_train_pred)\n",
    "print(\"The training MAE score : {0:.4g}\".format(train_mae))\n",
    "test_mae = metrics.mean_absolute_error(y_test,y_test_pred)\n",
    "print(\"The testing MAE score is : {0:.4g}\".format(test_mae))"
   ]
  },
  {
   "cell_type": "markdown",
   "metadata": {},
   "source": [
    "## Strategy 3"
   ]
  },
  {
   "cell_type": "code",
   "execution_count": 154,
   "metadata": {},
   "outputs": [],
   "source": [
    "X = station1.drop(['datetime','B1','B8A', 'date',target], axis=1)\n",
    "y = station1.loc[:,[target]]\n",
    "\n",
    "X_train, X_test, y_train, y_test = train_test_split(X,y, test_size=0.3, random_state = 42)"
   ]
  },
  {
   "cell_type": "code",
   "execution_count": 142,
   "metadata": {},
   "outputs": [
    {
     "name": "stdout",
     "output_type": "stream",
     "text": [
      "Model Report\n",
      "The training R2 is : 0.9623\n",
      "The testing R2 is : 0.1082\n",
      "The training MSE is : 58.97\n",
      "The testing MSE is : 2781\n"
     ]
    },
    {
     "name": "stderr",
     "output_type": "stream",
     "text": [
      "C:\\Users\\tmo0005\\Anaconda3\\lib\\site-packages\\sklearn\\ensemble\\_gb.py:570: DataConversionWarning: A column-vector y was passed when a 1d array was expected. Please change the shape of y to (n_samples, ), for example using ravel().\n",
      "  y = column_or_1d(y, warn=True)\n"
     ]
    }
   ],
   "source": [
    "#naive ML model\n",
    "\n",
    "model = gbR()\n",
    "\n",
    "#Fit the model on the data\n",
    "model.fit(X_train, y_train)\n",
    "\n",
    "#Predict training set:\n",
    "y_train_pred = model.predict(X_train)\n",
    "\n",
    "#Predict testing set:\n",
    "y_test_pred = model.predict(X_test)\n",
    "\n",
    "print(\"Model Report\")\n",
    "print(\"The training R2 is : {0:.4g}\".format(metrics.r2_score(y_train, y_train_pred)))\n",
    "print(\"The testing R2 is : {0:.4g}\".format(metrics.r2_score(y_test,y_test_pred)))\n",
    "\n",
    "print(\"The training MSE is : {0:.4g}\".format(metrics.mean_squared_error(y_train, y_train_pred)))\n",
    "print(\"The testing MSE is : {0:.4g}\".format(metrics.mean_squared_error(y_test,y_test_pred)))"
   ]
  },
  {
   "cell_type": "code",
   "execution_count": null,
   "metadata": {},
   "outputs": [],
   "source": []
  },
  {
   "cell_type": "code",
   "execution_count": 155,
   "metadata": {},
   "outputs": [
    {
     "name": "stdout",
     "output_type": "stream",
     "text": [
      "Fitting 2 folds for each of 3600 candidates, totalling 7200 fits\n"
     ]
    },
    {
     "name": "stderr",
     "output_type": "stream",
     "text": [
      "C:\\Users\\tmo0005\\Anaconda3\\lib\\site-packages\\sklearn\\ensemble\\_gb.py:570: DataConversionWarning: A column-vector y was passed when a 1d array was expected. Please change the shape of y to (n_samples, ), for example using ravel().\n",
      "  y = column_or_1d(y, warn=True)\n"
     ]
    },
    {
     "name": "stdout",
     "output_type": "stream",
     "text": [
      "Model Report\n",
      "-------------------------------\n",
      "CV best parameter combinations : {'learning_rate': 0.01, 'max_depth': 8, 'min_samples_leaf': 5, 'min_samples_split': 4, 'n_estimators': 400}\n",
      "-------------------------------\n",
      "-------------------------------\n",
      "The training R2 score : 0.8805\n",
      "The testing R2 score is : -0.02868\n",
      "CV best score : -1295\n",
      "-------------------------------\n",
      "-------------------------------\n",
      "The training MSE score : 187\n",
      "The testing MSE score is : 3208\n",
      "-------------------------------\n",
      "-------------------------------\n",
      "The training MAE score : 6.552\n",
      "The testing MAE score is : 28.57\n"
     ]
    }
   ],
   "source": [
    "hyper_parameters =  {\"min_samples_split\" : [4,5,6,7,8],\n",
    "                     \"min_samples_leaf\": [4,5,7,9,11],\n",
    "                     \"max_depth\"        : range(6,12,1),\n",
    "                    \"learning_rate\": np.logspace(-3,-1,3),\n",
    "                    \"n_estimators\"    : range(100,500,50)\n",
    "                    }\n",
    "\n",
    "model = GridSearchCV(estimator = gbR(random_state=42),\n",
    "                     param_grid = hyper_parameters,\n",
    "                     scoring='neg_mean_squared_error',n_jobs=-1, cv=2, verbose = 2)\n",
    "\n",
    "#Fit the model on the data\n",
    "model.fit(X_train, y_train)\n",
    "\n",
    "#Predict training set:\n",
    "y_train_pred = model.predict(X_train)\n",
    "\n",
    "#Predict testing set:\n",
    "y_test_pred = model.predict(X_test)\n",
    "\n",
    "#Print model report:\n",
    "print(\"Model Report\")\n",
    "print(\"-------------------------------\")\n",
    "print(\"CV best parameter combinations : {}\".format(model.best_params_))\n",
    "print(\"-------------------------------\")\n",
    "print(\"-------------------------------\")\n",
    "train_r2 = metrics.r2_score(y_train, y_train_pred)\n",
    "print(\"The training R2 score : {0:.4g}\".format(train_r2))\n",
    "test_r2 = metrics.r2_score(y_test,y_test_pred)\n",
    "print(\"The testing R2 score is : {0:.4g}\".format(test_r2))\n",
    "print(\"CV best score : {0:.4g}\".format(model.best_score_))\n",
    "print(\"-------------------------------\")\n",
    "print(\"-------------------------------\")\n",
    "train_mse = metrics.mean_squared_error(y_train, y_train_pred)\n",
    "print(\"The training MSE score : {0:.4g}\".format(train_mse))\n",
    "test_mse = metrics.mean_squared_error(y_test,y_test_pred)\n",
    "print(\"The testing MSE score is : {0:.4g}\".format(test_mse))\n",
    "print(\"-------------------------------\")\n",
    "print(\"-------------------------------\")\n",
    "train_mae = metrics.mean_absolute_error(y_train, y_train_pred)\n",
    "print(\"The training MAE score : {0:.4g}\".format(train_mae))\n",
    "test_mae = metrics.mean_absolute_error(y_test,y_test_pred)\n",
    "print(\"The testing MAE score is : {0:.4g}\".format(test_mae))"
   ]
  },
  {
   "cell_type": "markdown",
   "metadata": {},
   "source": [
    "## Strategy 4"
   ]
  },
  {
   "cell_type": "code",
   "execution_count": 143,
   "metadata": {},
   "outputs": [],
   "source": [
    "bands = ['B2', 'B3', 'B4', 'B5','B6','B7', 'B8', 'B12']\n",
    "# df_shifted = station1.copy()\n",
    "\n",
    "df_shifted = station1.drop(['datetime','B1','B8A', 'B9','B11','date'], axis=1)\n",
    "for i in bands:\n",
    "    for t in range(1,4):\n",
    "        df_shifted[i+'-'+str(t)] = df_shifted[i].shift(t)\n",
    "df_shifted.dropna(inplace=True)"
   ]
  },
  {
   "cell_type": "code",
   "execution_count": 144,
   "metadata": {},
   "outputs": [
    {
     "data": {
      "text/html": [
       "<div>\n",
       "<style scoped>\n",
       "    .dataframe tbody tr th:only-of-type {\n",
       "        vertical-align: middle;\n",
       "    }\n",
       "\n",
       "    .dataframe tbody tr th {\n",
       "        vertical-align: top;\n",
       "    }\n",
       "\n",
       "    .dataframe thead th {\n",
       "        text-align: right;\n",
       "    }\n",
       "</style>\n",
       "<table border=\"1\" class=\"dataframe\">\n",
       "  <thead>\n",
       "    <tr style=\"text-align: right;\">\n",
       "      <th></th>\n",
       "      <th>B2</th>\n",
       "      <th>B3</th>\n",
       "      <th>B4</th>\n",
       "      <th>B5</th>\n",
       "      <th>B6</th>\n",
       "      <th>B7</th>\n",
       "      <th>B8</th>\n",
       "      <th>B12</th>\n",
       "      <th>Turbidity (FNU)</th>\n",
       "      <th>B2-1</th>\n",
       "      <th>...</th>\n",
       "      <th>B6-3</th>\n",
       "      <th>B7-1</th>\n",
       "      <th>B7-2</th>\n",
       "      <th>B7-3</th>\n",
       "      <th>B8-1</th>\n",
       "      <th>B8-2</th>\n",
       "      <th>B8-3</th>\n",
       "      <th>B12-1</th>\n",
       "      <th>B12-2</th>\n",
       "      <th>B12-3</th>\n",
       "    </tr>\n",
       "  </thead>\n",
       "  <tbody>\n",
       "    <tr>\n",
       "      <th>3</th>\n",
       "      <td>1764.0</td>\n",
       "      <td>2060.0</td>\n",
       "      <td>2204.0</td>\n",
       "      <td>2259.0</td>\n",
       "      <td>2359.0</td>\n",
       "      <td>2448.0</td>\n",
       "      <td>2414.0</td>\n",
       "      <td>2380.0</td>\n",
       "      <td>26.4</td>\n",
       "      <td>390.0</td>\n",
       "      <td>...</td>\n",
       "      <td>1162.0</td>\n",
       "      <td>1528.0</td>\n",
       "      <td>1491.0</td>\n",
       "      <td>1209.0</td>\n",
       "      <td>1832.0</td>\n",
       "      <td>1600.0</td>\n",
       "      <td>1236.0</td>\n",
       "      <td>1171.0</td>\n",
       "      <td>1457.0</td>\n",
       "      <td>1117.0</td>\n",
       "    </tr>\n",
       "    <tr>\n",
       "      <th>4</th>\n",
       "      <td>678.0</td>\n",
       "      <td>933.0</td>\n",
       "      <td>1178.0</td>\n",
       "      <td>1469.0</td>\n",
       "      <td>1542.0</td>\n",
       "      <td>1742.0</td>\n",
       "      <td>1516.0</td>\n",
       "      <td>997.0</td>\n",
       "      <td>82.4</td>\n",
       "      <td>1764.0</td>\n",
       "      <td>...</td>\n",
       "      <td>1411.0</td>\n",
       "      <td>2448.0</td>\n",
       "      <td>1528.0</td>\n",
       "      <td>1491.0</td>\n",
       "      <td>2414.0</td>\n",
       "      <td>1832.0</td>\n",
       "      <td>1600.0</td>\n",
       "      <td>2380.0</td>\n",
       "      <td>1171.0</td>\n",
       "      <td>1457.0</td>\n",
       "    </tr>\n",
       "    <tr>\n",
       "      <th>5</th>\n",
       "      <td>1466.0</td>\n",
       "      <td>1702.0</td>\n",
       "      <td>2114.0</td>\n",
       "      <td>2267.0</td>\n",
       "      <td>2463.0</td>\n",
       "      <td>2569.0</td>\n",
       "      <td>2684.0</td>\n",
       "      <td>2708.0</td>\n",
       "      <td>83.4</td>\n",
       "      <td>678.0</td>\n",
       "      <td>...</td>\n",
       "      <td>1423.0</td>\n",
       "      <td>1742.0</td>\n",
       "      <td>2448.0</td>\n",
       "      <td>1528.0</td>\n",
       "      <td>1516.0</td>\n",
       "      <td>2414.0</td>\n",
       "      <td>1832.0</td>\n",
       "      <td>997.0</td>\n",
       "      <td>2380.0</td>\n",
       "      <td>1171.0</td>\n",
       "    </tr>\n",
       "    <tr>\n",
       "      <th>6</th>\n",
       "      <td>1978.0</td>\n",
       "      <td>2050.0</td>\n",
       "      <td>2446.0</td>\n",
       "      <td>2967.0</td>\n",
       "      <td>3279.0</td>\n",
       "      <td>3324.0</td>\n",
       "      <td>3780.0</td>\n",
       "      <td>1556.0</td>\n",
       "      <td>55.2</td>\n",
       "      <td>1466.0</td>\n",
       "      <td>...</td>\n",
       "      <td>2359.0</td>\n",
       "      <td>2569.0</td>\n",
       "      <td>1742.0</td>\n",
       "      <td>2448.0</td>\n",
       "      <td>2684.0</td>\n",
       "      <td>1516.0</td>\n",
       "      <td>2414.0</td>\n",
       "      <td>2708.0</td>\n",
       "      <td>997.0</td>\n",
       "      <td>2380.0</td>\n",
       "    </tr>\n",
       "    <tr>\n",
       "      <th>7</th>\n",
       "      <td>220.0</td>\n",
       "      <td>489.0</td>\n",
       "      <td>655.0</td>\n",
       "      <td>912.0</td>\n",
       "      <td>1219.0</td>\n",
       "      <td>1295.0</td>\n",
       "      <td>973.0</td>\n",
       "      <td>1172.0</td>\n",
       "      <td>21.9</td>\n",
       "      <td>1978.0</td>\n",
       "      <td>...</td>\n",
       "      <td>1542.0</td>\n",
       "      <td>3324.0</td>\n",
       "      <td>2569.0</td>\n",
       "      <td>1742.0</td>\n",
       "      <td>3780.0</td>\n",
       "      <td>2684.0</td>\n",
       "      <td>1516.0</td>\n",
       "      <td>1556.0</td>\n",
       "      <td>2708.0</td>\n",
       "      <td>997.0</td>\n",
       "    </tr>\n",
       "    <tr>\n",
       "      <th>...</th>\n",
       "      <td>...</td>\n",
       "      <td>...</td>\n",
       "      <td>...</td>\n",
       "      <td>...</td>\n",
       "      <td>...</td>\n",
       "      <td>...</td>\n",
       "      <td>...</td>\n",
       "      <td>...</td>\n",
       "      <td>...</td>\n",
       "      <td>...</td>\n",
       "      <td>...</td>\n",
       "      <td>...</td>\n",
       "      <td>...</td>\n",
       "      <td>...</td>\n",
       "      <td>...</td>\n",
       "      <td>...</td>\n",
       "      <td>...</td>\n",
       "      <td>...</td>\n",
       "      <td>...</td>\n",
       "      <td>...</td>\n",
       "      <td>...</td>\n",
       "    </tr>\n",
       "    <tr>\n",
       "      <th>280</th>\n",
       "      <td>9080.0</td>\n",
       "      <td>8488.0</td>\n",
       "      <td>8176.0</td>\n",
       "      <td>8436.0</td>\n",
       "      <td>8097.0</td>\n",
       "      <td>7953.0</td>\n",
       "      <td>7976.0</td>\n",
       "      <td>5742.0</td>\n",
       "      <td>23.0</td>\n",
       "      <td>7644.0</td>\n",
       "      <td>...</td>\n",
       "      <td>4642.0</td>\n",
       "      <td>6600.0</td>\n",
       "      <td>3618.0</td>\n",
       "      <td>5168.0</td>\n",
       "      <td>7276.0</td>\n",
       "      <td>2923.0</td>\n",
       "      <td>4248.0</td>\n",
       "      <td>3428.0</td>\n",
       "      <td>2202.0</td>\n",
       "      <td>4179.0</td>\n",
       "    </tr>\n",
       "    <tr>\n",
       "      <th>281</th>\n",
       "      <td>1550.0</td>\n",
       "      <td>1689.0</td>\n",
       "      <td>1778.0</td>\n",
       "      <td>2198.0</td>\n",
       "      <td>2984.0</td>\n",
       "      <td>3172.0</td>\n",
       "      <td>2560.0</td>\n",
       "      <td>2367.0</td>\n",
       "      <td>13.0</td>\n",
       "      <td>9080.0</td>\n",
       "      <td>...</td>\n",
       "      <td>3160.0</td>\n",
       "      <td>7953.0</td>\n",
       "      <td>6600.0</td>\n",
       "      <td>3618.0</td>\n",
       "      <td>7976.0</td>\n",
       "      <td>7276.0</td>\n",
       "      <td>2923.0</td>\n",
       "      <td>5742.0</td>\n",
       "      <td>3428.0</td>\n",
       "      <td>2202.0</td>\n",
       "    </tr>\n",
       "    <tr>\n",
       "      <th>282</th>\n",
       "      <td>6484.0</td>\n",
       "      <td>5792.0</td>\n",
       "      <td>5352.0</td>\n",
       "      <td>5363.0</td>\n",
       "      <td>5220.0</td>\n",
       "      <td>5290.0</td>\n",
       "      <td>5200.0</td>\n",
       "      <td>1735.0</td>\n",
       "      <td>33.0</td>\n",
       "      <td>1550.0</td>\n",
       "      <td>...</td>\n",
       "      <td>6518.0</td>\n",
       "      <td>3172.0</td>\n",
       "      <td>7953.0</td>\n",
       "      <td>6600.0</td>\n",
       "      <td>2560.0</td>\n",
       "      <td>7976.0</td>\n",
       "      <td>7276.0</td>\n",
       "      <td>2367.0</td>\n",
       "      <td>5742.0</td>\n",
       "      <td>3428.0</td>\n",
       "    </tr>\n",
       "    <tr>\n",
       "      <th>283</th>\n",
       "      <td>1581.0</td>\n",
       "      <td>1670.0</td>\n",
       "      <td>1810.0</td>\n",
       "      <td>2237.0</td>\n",
       "      <td>3019.0</td>\n",
       "      <td>3381.0</td>\n",
       "      <td>2616.0</td>\n",
       "      <td>2393.0</td>\n",
       "      <td>21.0</td>\n",
       "      <td>6484.0</td>\n",
       "      <td>...</td>\n",
       "      <td>8097.0</td>\n",
       "      <td>5290.0</td>\n",
       "      <td>3172.0</td>\n",
       "      <td>7953.0</td>\n",
       "      <td>5200.0</td>\n",
       "      <td>2560.0</td>\n",
       "      <td>7976.0</td>\n",
       "      <td>1735.0</td>\n",
       "      <td>2367.0</td>\n",
       "      <td>5742.0</td>\n",
       "    </tr>\n",
       "    <tr>\n",
       "      <th>284</th>\n",
       "      <td>1622.0</td>\n",
       "      <td>1786.0</td>\n",
       "      <td>1794.0</td>\n",
       "      <td>2178.0</td>\n",
       "      <td>3237.0</td>\n",
       "      <td>3657.0</td>\n",
       "      <td>2873.0</td>\n",
       "      <td>2263.0</td>\n",
       "      <td>9.0</td>\n",
       "      <td>1581.0</td>\n",
       "      <td>...</td>\n",
       "      <td>2984.0</td>\n",
       "      <td>3381.0</td>\n",
       "      <td>5290.0</td>\n",
       "      <td>3172.0</td>\n",
       "      <td>2616.0</td>\n",
       "      <td>5200.0</td>\n",
       "      <td>2560.0</td>\n",
       "      <td>2393.0</td>\n",
       "      <td>1735.0</td>\n",
       "      <td>2367.0</td>\n",
       "    </tr>\n",
       "  </tbody>\n",
       "</table>\n",
       "<p>277 rows × 33 columns</p>\n",
       "</div>"
      ],
      "text/plain": [
       "         B2      B3      B4      B5      B6      B7      B8     B12  \\\n",
       "3    1764.0  2060.0  2204.0  2259.0  2359.0  2448.0  2414.0  2380.0   \n",
       "4     678.0   933.0  1178.0  1469.0  1542.0  1742.0  1516.0   997.0   \n",
       "5    1466.0  1702.0  2114.0  2267.0  2463.0  2569.0  2684.0  2708.0   \n",
       "6    1978.0  2050.0  2446.0  2967.0  3279.0  3324.0  3780.0  1556.0   \n",
       "7     220.0   489.0   655.0   912.0  1219.0  1295.0   973.0  1172.0   \n",
       "..      ...     ...     ...     ...     ...     ...     ...     ...   \n",
       "280  9080.0  8488.0  8176.0  8436.0  8097.0  7953.0  7976.0  5742.0   \n",
       "281  1550.0  1689.0  1778.0  2198.0  2984.0  3172.0  2560.0  2367.0   \n",
       "282  6484.0  5792.0  5352.0  5363.0  5220.0  5290.0  5200.0  1735.0   \n",
       "283  1581.0  1670.0  1810.0  2237.0  3019.0  3381.0  2616.0  2393.0   \n",
       "284  1622.0  1786.0  1794.0  2178.0  3237.0  3657.0  2873.0  2263.0   \n",
       "\n",
       "     Turbidity (FNU)    B2-1  ...    B6-3    B7-1    B7-2    B7-3    B8-1  \\\n",
       "3               26.4   390.0  ...  1162.0  1528.0  1491.0  1209.0  1832.0   \n",
       "4               82.4  1764.0  ...  1411.0  2448.0  1528.0  1491.0  2414.0   \n",
       "5               83.4   678.0  ...  1423.0  1742.0  2448.0  1528.0  1516.0   \n",
       "6               55.2  1466.0  ...  2359.0  2569.0  1742.0  2448.0  2684.0   \n",
       "7               21.9  1978.0  ...  1542.0  3324.0  2569.0  1742.0  3780.0   \n",
       "..               ...     ...  ...     ...     ...     ...     ...     ...   \n",
       "280             23.0  7644.0  ...  4642.0  6600.0  3618.0  5168.0  7276.0   \n",
       "281             13.0  9080.0  ...  3160.0  7953.0  6600.0  3618.0  7976.0   \n",
       "282             33.0  1550.0  ...  6518.0  3172.0  7953.0  6600.0  2560.0   \n",
       "283             21.0  6484.0  ...  8097.0  5290.0  3172.0  7953.0  5200.0   \n",
       "284              9.0  1581.0  ...  2984.0  3381.0  5290.0  3172.0  2616.0   \n",
       "\n",
       "       B8-2    B8-3   B12-1   B12-2   B12-3  \n",
       "3    1600.0  1236.0  1171.0  1457.0  1117.0  \n",
       "4    1832.0  1600.0  2380.0  1171.0  1457.0  \n",
       "5    2414.0  1832.0   997.0  2380.0  1171.0  \n",
       "6    1516.0  2414.0  2708.0   997.0  2380.0  \n",
       "7    2684.0  1516.0  1556.0  2708.0   997.0  \n",
       "..      ...     ...     ...     ...     ...  \n",
       "280  2923.0  4248.0  3428.0  2202.0  4179.0  \n",
       "281  7276.0  2923.0  5742.0  3428.0  2202.0  \n",
       "282  7976.0  7276.0  2367.0  5742.0  3428.0  \n",
       "283  2560.0  7976.0  1735.0  2367.0  5742.0  \n",
       "284  5200.0  2560.0  2393.0  1735.0  2367.0  \n",
       "\n",
       "[277 rows x 33 columns]"
      ]
     },
     "execution_count": 144,
     "metadata": {},
     "output_type": "execute_result"
    }
   ],
   "source": [
    "df_shifted"
   ]
  },
  {
   "cell_type": "code",
   "execution_count": 156,
   "metadata": {},
   "outputs": [],
   "source": [
    "train_size = int(len(station1)*0.7)\n",
    "\n",
    "X_train, X_test = df_shifted.drop([target],axis=1)[0:train_size], df_shifted.drop([target],axis=1)[train_size:]\n",
    "y_train, y_test = df_shifted[[target]][0:train_size], df_shifted[[target]][train_size:]"
   ]
  },
  {
   "cell_type": "code",
   "execution_count": 148,
   "metadata": {},
   "outputs": [
    {
     "name": "stdout",
     "output_type": "stream",
     "text": [
      "Model Report\n",
      "The training R2 is : 0.9865\n",
      "The testing R2 is : -0.2679\n",
      "The training MSE is : 19.42\n",
      "The testing MSE is : 4134\n"
     ]
    },
    {
     "name": "stderr",
     "output_type": "stream",
     "text": [
      "C:\\Users\\tmo0005\\Anaconda3\\lib\\site-packages\\sklearn\\ensemble\\_gb.py:570: DataConversionWarning: A column-vector y was passed when a 1d array was expected. Please change the shape of y to (n_samples, ), for example using ravel().\n",
      "  y = column_or_1d(y, warn=True)\n"
     ]
    }
   ],
   "source": [
    "#naive ML model\n",
    "\n",
    "model = gbR()\n",
    "\n",
    "#Fit the model on the data\n",
    "model.fit(X_train, y_train)\n",
    "\n",
    "#Predict training set:\n",
    "y_train_pred = model.predict(X_train)\n",
    "\n",
    "#Predict testing set:\n",
    "y_test_pred = model.predict(X_test)\n",
    "\n",
    "print(\"Model Report\")\n",
    "print(\"The training R2 is : {0:.4g}\".format(metrics.r2_score(y_train, y_train_pred)))\n",
    "print(\"The testing R2 is : {0:.4g}\".format(metrics.r2_score(y_test,y_test_pred)))\n",
    "\n",
    "print(\"The training MSE is : {0:.4g}\".format(metrics.mean_squared_error(y_train, y_train_pred)))\n",
    "print(\"The testing MSE is : {0:.4g}\".format(metrics.mean_squared_error(y_test,y_test_pred)))"
   ]
  },
  {
   "cell_type": "code",
   "execution_count": null,
   "metadata": {},
   "outputs": [],
   "source": []
  },
  {
   "cell_type": "code",
   "execution_count": 157,
   "metadata": {},
   "outputs": [
    {
     "name": "stdout",
     "output_type": "stream",
     "text": [
      "Fitting 2 folds for each of 3600 candidates, totalling 7200 fits\n"
     ]
    },
    {
     "name": "stderr",
     "output_type": "stream",
     "text": [
      "C:\\Users\\tmo0005\\Anaconda3\\lib\\site-packages\\sklearn\\ensemble\\_gb.py:570: DataConversionWarning: A column-vector y was passed when a 1d array was expected. Please change the shape of y to (n_samples, ), for example using ravel().\n",
      "  y = column_or_1d(y, warn=True)\n"
     ]
    },
    {
     "name": "stdout",
     "output_type": "stream",
     "text": [
      "Model Report\n",
      "-------------------------------\n",
      "CV best parameter combinations : {'learning_rate': 0.01, 'max_depth': 9, 'min_samples_leaf': 9, 'min_samples_split': 4, 'n_estimators': 150}\n",
      "-------------------------------\n",
      "-------------------------------\n",
      "The training R2 score : 0.5191\n",
      "The testing R2 score is : 0.004398\n",
      "CV best score : -1352\n",
      "-------------------------------\n",
      "-------------------------------\n",
      "The training MSE score : 693.5\n",
      "The testing MSE score is : 3247\n",
      "-------------------------------\n",
      "-------------------------------\n",
      "The training MAE score : 13.24\n",
      "The testing MAE score is : 38.94\n"
     ]
    }
   ],
   "source": [
    "hyper_parameters =  {\"min_samples_split\" : [4,5,6,7,8],\n",
    "                     \"min_samples_leaf\": [4,5,7,9,11],\n",
    "                     \"max_depth\"        : range(6,12,1),\n",
    "                    \"learning_rate\": np.logspace(-3,-1,3),\n",
    "                    \"n_estimators\"    : range(100,500,50)\n",
    "                    }\n",
    "\n",
    "model = GridSearchCV(estimator = gbR(random_state=42),\n",
    "                     param_grid = hyper_parameters,\n",
    "                     scoring='neg_mean_squared_error',n_jobs=-1, cv=2, verbose = 2)\n",
    "\n",
    "#Fit the model on the data\n",
    "model.fit(X_train, y_train)\n",
    "\n",
    "#Predict training set:\n",
    "y_train_pred = model.predict(X_train)\n",
    "\n",
    "#Predict testing set:\n",
    "y_test_pred = model.predict(X_test)\n",
    "\n",
    "#Print model report:\n",
    "print(\"Model Report\")\n",
    "print(\"-------------------------------\")\n",
    "print(\"CV best parameter combinations : {}\".format(model.best_params_))\n",
    "print(\"-------------------------------\")\n",
    "print(\"-------------------------------\")\n",
    "train_r2 = metrics.r2_score(y_train, y_train_pred)\n",
    "print(\"The training R2 score : {0:.4g}\".format(train_r2))\n",
    "test_r2 = metrics.r2_score(y_test,y_test_pred)\n",
    "print(\"The testing R2 score is : {0:.4g}\".format(test_r2))\n",
    "print(\"CV best score : {0:.4g}\".format(model.best_score_))\n",
    "print(\"-------------------------------\")\n",
    "print(\"-------------------------------\")\n",
    "train_mse = metrics.mean_squared_error(y_train, y_train_pred)\n",
    "print(\"The training MSE score : {0:.4g}\".format(train_mse))\n",
    "test_mse = metrics.mean_squared_error(y_test,y_test_pred)\n",
    "print(\"The testing MSE score is : {0:.4g}\".format(test_mse))\n",
    "print(\"-------------------------------\")\n",
    "print(\"-------------------------------\")\n",
    "train_mae = metrics.mean_absolute_error(y_train, y_train_pred)\n",
    "print(\"The training MAE score : {0:.4g}\".format(train_mae))\n",
    "test_mae = metrics.mean_absolute_error(y_test,y_test_pred)\n",
    "print(\"The testing MAE score is : {0:.4g}\".format(test_mae))"
   ]
  },
  {
   "cell_type": "code",
   "execution_count": null,
   "metadata": {},
   "outputs": [],
   "source": []
  },
  {
   "cell_type": "markdown",
   "metadata": {},
   "source": [
    "___"
   ]
  },
  {
   "cell_type": "code",
   "execution_count": null,
   "metadata": {},
   "outputs": [],
   "source": []
  },
  {
   "cell_type": "code",
   "execution_count": null,
   "metadata": {},
   "outputs": [],
   "source": []
  },
  {
   "cell_type": "code",
   "execution_count": 124,
   "metadata": {},
   "outputs": [],
   "source": [
    "train = df_shifted.reset_index(drop=True)\n",
    "test = pd.DataFrame()\n",
    "for i in range(5,len(df_shifted),5):\n",
    "    test = pd.concat([test,df_shifted.iloc[[i]]], ignore_index = False)\n",
    "    train.drop([i], inplace=True)\n",
    "\n",
    "X_train, X_test = train.drop([target],axis=1), test.drop([target],axis=1)\n",
    "y_train, y_test = train[[target]], test[[target]]"
   ]
  },
  {
   "cell_type": "code",
   "execution_count": null,
   "metadata": {},
   "outputs": [],
   "source": []
  },
  {
   "cell_type": "code",
   "execution_count": null,
   "metadata": {},
   "outputs": [],
   "source": []
  },
  {
   "cell_type": "code",
   "execution_count": null,
   "metadata": {},
   "outputs": [],
   "source": []
  },
  {
   "cell_type": "code",
   "execution_count": 65,
   "metadata": {},
   "outputs": [
    {
     "data": {
      "image/png": "[encoded data removed]",
      "text/plain": [
       "<Figure size 720x144 with 2 Axes>"
      ]
     },
     "metadata": {
      "needs_background": "light"
     },
     "output_type": "display_data"
    }
   ],
   "source": [
    "import warnings\n",
    "warnings.filterwarnings('ignore')\n",
    "plt.figure(figsize=(10,2))\n",
    "plt.subplot(121)\n",
    "sns.distplot(df1.B1)\n",
    "plt.title('B1')\n",
    "plt.subplot(122)\n",
    "stats.probplot(df1.B1, dist=\"norm\", plot=plt)\n",
    "plt.title('B1 QQ Plot')\n",
    "plt.show()"
   ]
  },
  {
   "cell_type": "code",
   "execution_count": 107,
   "metadata": {},
   "outputs": [],
   "source": [
    "sc = StandardScaler()\n",
    "df_sc = sc.fit_transform(station1[[target]])"
   ]
  },
  {
   "cell_type": "code",
   "execution_count": 105,
   "metadata": {},
   "outputs": [
    {
     "data": {
      "text/plain": [
       "<matplotlib.axes._subplots.AxesSubplot at 0x197b0d23250>"
      ]
     },
     "execution_count": 105,
     "metadata": {},
     "output_type": "execute_result"
    },
    {
     "data": {
      "image/png": "[encoded data removed]",
      "text/plain": [
       "<Figure size 432x288 with 1 Axes>"
      ]
     },
     "metadata": {
      "needs_background": "light"
     },
     "output_type": "display_data"
    }
   ],
   "source": [
    "sns.distplot(X_train.iloc[:,0])"
   ]
  },
  {
   "cell_type": "code",
   "execution_count": 106,
   "metadata": {},
   "outputs": [
    {
     "data": {
      "text/plain": [
       "<matplotlib.axes._subplots.AxesSubplot at 0x197b0aefac0>"
      ]
     },
     "execution_count": 106,
     "metadata": {},
     "output_type": "execute_result"
    },
    {
     "data": {
      "image/png": "[encoded data removed]",
      "text/plain": [
       "<Figure size 432x288 with 1 Axes>"
      ]
     },
     "metadata": {
      "needs_background": "light"
     },
     "output_type": "display_data"
    }
   ],
   "source": [
    "sns.distplot(X_test.iloc[:,0])"
   ]
  },
  {
   "cell_type": "code",
   "execution_count": 107,
   "metadata": {},
   "outputs": [],
   "source": [
    "trf = FunctionTransformer(func=np.log1p)\n",
    "X_train = trf.fit_transform(X_train)\n",
    "X_test = trf.transform(X_test)\n",
    "\n",
    "y_train = trf.fit_transform(y_train)\n",
    "y_test = trf.transform(y_test) "
   ]
  },
  {
   "cell_type": "code",
   "execution_count": 142,
   "metadata": {},
   "outputs": [],
   "source": [
    "pt = PowerTransformer(method='box-cox')\n",
    "X_train = pt.fit_transform(X_train+0.0000001)\n",
    "X_test = pt.transform(X_test+0.0000001)\n",
    "\n",
    "y_train = pt.fit_transform(y_train+0.0000001)\n",
    "y_test = pt.transform(y_test+0.0000001)\n"
   ]
  },
  {
   "cell_type": "code",
   "execution_count": 179,
   "metadata": {},
   "outputs": [],
   "source": [
    "sc = MinMaxScaler()\n",
    "X_train = sc.fit_transform(X_train)\n",
    "X_test = sc.transform(X_test)\n",
    "\n",
    "y_train = sc.fit_transform(y_train)\n",
    "y_test = sc.transform(y_test)"
   ]
  },
  {
   "cell_type": "code",
   "execution_count": 237,
   "metadata": {},
   "outputs": [],
   "source": [
    "hyper_parameters =  {\"min_samples_split\" : [4,5,6,7,8],\n",
    "                     \"min_samples_leaf\": [4,5,7,9,11],\n",
    "                     \"max_depth\"        : range(6,12,1),\n",
    "                    \"learning_rate\": np.logspace(-3,-1,3)}\n",
    "#                     \"n_estimators\"    : range(100,500,50)\n",
    "#                     }"
   ]
  },
  {
   "cell_type": "code",
   "execution_count": 238,
   "metadata": {},
   "outputs": [
    {
     "name": "stdout",
     "output_type": "stream",
     "text": [
      "Fitting 2 folds for each of 450 candidates, totalling 900 fits\n",
      "Model Report\n",
      "-------------------------------\n",
      "CV best parameter combinations : {'learning_rate': 0.1, 'max_depth': 6, 'min_samples_leaf': 11, 'min_samples_split': 4}\n",
      "-------------------------------\n",
      "-------------------------------\n",
      "The training R2 score : 0.9916\n",
      "The testing R2 score is : -0.1355\n",
      "CV best score : 0.3434\n",
      "-------------------------------\n",
      "-------------------------------\n",
      "The training MSE score : 0.019\n",
      "The testing MSE score is : 2.724\n",
      "-------------------------------\n",
      "-------------------------------\n",
      "The training MAE score : 0.08028\n",
      "The testing MAE score is : 1.172\n"
     ]
    }
   ],
   "source": [
    "model = GridSearchCV(estimator = gbR(random_state=42),\n",
    "                     param_grid = hyper_parameters,\n",
    "                     scoring='r2',n_jobs=-1, cv=2, verbose = 1)\n",
    "\n",
    "#Fit the model on the data\n",
    "model.fit(X_train, y_train)\n",
    "\n",
    "#Predict training set:\n",
    "y_train_pred = model.predict(X_train)\n",
    "\n",
    "#Predict testing set:\n",
    "y_test_pred = model.predict(X_test)\n",
    "\n",
    "#Print model report:\n",
    "print(\"Model Report\")\n",
    "print(\"-------------------------------\")\n",
    "print(\"CV best parameter combinations : {}\".format(model.best_params_))\n",
    "print(\"-------------------------------\")\n",
    "print(\"-------------------------------\")\n",
    "train_r2 = metrics.r2_score(y_train, y_train_pred)\n",
    "print(\"The training R2 score : {0:.4g}\".format(train_r2))\n",
    "test_r2 = metrics.r2_score(y_test,y_test_pred)\n",
    "print(\"The testing R2 score is : {0:.4g}\".format(test_r2))\n",
    "print(\"CV best score : {0:.4g}\".format(model.best_score_))\n",
    "print(\"-------------------------------\")\n",
    "print(\"-------------------------------\")\n",
    "train_mse = metrics.mean_squared_error(y_train, y_train_pred)\n",
    "print(\"The training MSE score : {0:.4g}\".format(train_mse))\n",
    "test_mse = metrics.mean_squared_error(y_test,y_test_pred)\n",
    "print(\"The testing MSE score is : {0:.4g}\".format(test_mse))\n",
    "print(\"-------------------------------\")\n",
    "print(\"-------------------------------\")\n",
    "train_mae = metrics.mean_absolute_error(y_train, y_train_pred)\n",
    "print(\"The training MAE score : {0:.4g}\".format(train_mae))\n",
    "test_mae = metrics.mean_absolute_error(y_test,y_test_pred)\n",
    "print(\"The testing MAE score is : {0:.4g}\".format(test_mae))"
   ]
  },
  {
   "cell_type": "code",
   "execution_count": 114,
   "metadata": {},
   "outputs": [
    {
     "data": {
      "text/plain": [
       "Text(0.5, 0, 'Feature Importance Score')"
      ]
     },
     "execution_count": 114,
     "metadata": {},
     "output_type": "execute_result"
    },
    {
     "data": {
      "image/png": "[encoded data removed]",
      "text/plain": [
       "<Figure size 432x288 with 1 Axes>"
      ]
     },
     "metadata": {
      "needs_background": "light"
     },
     "output_type": "display_data"
    }
   ],
   "source": [
    "feat_imp = pd.Series(model.best_estimator_.feature_importances_, X_train.columns).sort_values(ascending=False)\n",
    "feat_imp.plot(kind='barh', title='Feature Importances')\n",
    "plt.xlabel('Feature Importance Score')"
   ]
  },
  {
   "cell_type": "code",
   "execution_count": 236,
   "metadata": {},
   "outputs": [
    {
     "name": "stdout",
     "output_type": "stream",
     "text": [
      "Model Report\n",
      "The training R2 is : 0.9898\n",
      "The testing R2 is : 0.2746\n",
      "The training MSE is : 0.02308\n",
      "The testing MSE is : 1.74\n"
     ]
    }
   ],
   "source": [
    "#naive ML model\n",
    "\n",
    "model = gbR()\n",
    "\n",
    "#Fit the model on the data\n",
    "model.fit(X_train, y_train)\n",
    "\n",
    "#Predict training set:\n",
    "y_train_pred = model.predict(X_train)\n",
    "\n",
    "#Predict testing set:\n",
    "y_test_pred = model.predict(X_test)\n",
    "\n",
    "print(\"Model Report\")\n",
    "print(\"The training R2 is : {0:.4g}\".format(metrics.r2_score(y_train, y_train_pred)))\n",
    "print(\"The testing R2 is : {0:.4g}\".format(metrics.r2_score(y_test,y_test_pred)))\n",
    "\n",
    "print(\"The training MSE is : {0:.4g}\".format(metrics.mean_squared_error(y_train, y_train_pred)))\n",
    "print(\"The testing MSE is : {0:.4g}\".format(metrics.mean_squared_error(y_test,y_test_pred)))"
   ]
  },
  {
   "cell_type": "code",
   "execution_count": null,
   "metadata": {},
   "outputs": [],
   "source": []
  },
  {
   "cell_type": "code",
   "execution_count": null,
   "metadata": {},
   "outputs": [],
   "source": []
  },
  {
   "cell_type": "code",
   "execution_count": null,
   "metadata": {},
   "outputs": [],
   "source": []
  },
  {
   "cell_type": "code",
   "execution_count": null,
   "metadata": {},
   "outputs": [],
   "source": []
  },
  {
   "cell_type": "code",
   "execution_count": null,
   "metadata": {},
   "outputs": [],
   "source": []
  },
  {
   "cell_type": "code",
   "execution_count": null,
   "metadata": {},
   "outputs": [],
   "source": [
    "model = SVR()\n",
    "\n",
    "#Fit the model on the data\n",
    "model.fit(X_train.values, y_train.values.ravel())\n",
    "\n",
    "#Predict training set:\n",
    "y_train_pred = model.predict(X_train.values)\n",
    "\n",
    "#Predict testing set:\n",
    "y_test_pred = model.predict(X_test.values)\n",
    "\n",
    "print(\"Model Report\")\n",
    "print(\"The training R2 is : {0:.4g}\".format(metrics.r2_score(y_train.values, y_train_pred)))\n",
    "print(\"The testing R2 is : {0:.4g}\".format(metrics.r2_score(y_test.values,y_test_pred)))\n",
    "\n",
    "print(\"The training MSE is : {0:.4g}\".format(metrics.mean_squared_error(y_train.values, y_train_pred)))\n",
    "print(\"The testing MSE is : {0:.4g}\".format(metrics.mean_squared_error(y_test.values,y_test_pred)))"
   ]
  },
  {
   "cell_type": "code",
   "execution_count": 117,
   "metadata": {},
   "outputs": [
    {
     "name": "stdout",
     "output_type": "stream",
     "text": [
      "Model Report\n",
      "The training R2 is : -1.371\n",
      "The testing R2 is : -2.362\n",
      "The training MSE is : 2.349\n",
      "The testing MSE is : 2.975\n"
     ]
    }
   ],
   "source": [
    "model = MLPRegressor()\n",
    "\n",
    "#Fit the model on the data\n",
    "model.fit(X_train.values, y_train.values.ravel())\n",
    "\n",
    "#Predict training set:\n",
    "y_train_pred = model.predict(X_train.values)\n",
    "\n",
    "#Predict testing set:\n",
    "y_test_pred = model.predict(X_test.values)\n",
    "\n",
    "print(\"Model Report\")\n",
    "print(\"The training R2 is : {0:.4g}\".format(metrics.r2_score(y_train.values, y_train_pred)))\n",
    "print(\"The testing R2 is : {0:.4g}\".format(metrics.r2_score(y_test.values,y_test_pred)))\n",
    "\n",
    "print(\"The training MSE is : {0:.4g}\".format(metrics.mean_squared_error(y_train.values, y_train_pred)))\n",
    "print(\"The testing MSE is : {0:.4g}\".format(metrics.mean_squared_error(y_test.values,y_test_pred)))"
   ]
  },
  {
   "cell_type": "code",
   "execution_count": null,
   "metadata": {},
   "outputs": [],
   "source": []
  },
  {
   "cell_type": "code",
   "execution_count": null,
   "metadata": {},
   "outputs": [],
   "source": []
  },
  {
   "cell_type": "code",
   "execution_count": null,
   "metadata": {},
   "outputs": [],
   "source": []
  }
 ],
 "metadata": {
  "kernelspec": {
   "display_name": "Python 3",
   "language": "python",
   "name": "python3"
  },
  "language_info": {
   "codemirror_mode": {
    "name": "ipython",
    "version": 3
   },
   "file_extension": ".py",
   "mimetype": "text/x-python",
   "name": "python",
   "nbconvert_exporter": "python",
   "pygments_lexer": "ipython3",
   "version": "3.8.3"
  }
 },
 "nbformat": 4,
 "nbformat_minor": 4
}
